{
 "cells": [
  {
   "cell_type": "markdown",
   "id": "48e33569-1dfb-48a8-9aec-2c850a278698",
   "metadata": {},
   "source": [
    "### NOTAS PROFE\n",
    "\n",
    "En la primera part sembla ser que tenim que fer un Z-norm de les dades -> https://www.statology.org/z-score-normalization/\n",
    "\n",
    "Un cop fer el Z-norm hem de fer un clustering techniques amb K-means per detectar daily load patters\n",
    "\n",
    "\n"
   ]
  },
  {
   "cell_type": "code",
   "execution_count": null,
   "id": "e044a835-50fb-451d-9013-a2eafa581c36",
   "metadata": {},
   "outputs": [],
   "source": []
  },
  {
   "cell_type": "code",
   "execution_count": null,
   "id": "893ac606-3c1b-44b1-a3a2-8f9acaa75a8b",
   "metadata": {},
   "outputs": [],
   "source": []
  }
 ],
 "metadata": {
  "kernelspec": {
   "display_name": "Python 3 (ipykernel)",
   "language": "python",
   "name": "python3"
  },
  "language_info": {
   "codemirror_mode": {
    "name": "ipython",
    "version": 3
   },
   "file_extension": ".py",
   "mimetype": "text/x-python",
   "name": "python",
   "nbconvert_exporter": "python",
   "pygments_lexer": "ipython3",
   "version": "3.12.4"
  }
 },
 "nbformat": 4,
 "nbformat_minor": 5
}
